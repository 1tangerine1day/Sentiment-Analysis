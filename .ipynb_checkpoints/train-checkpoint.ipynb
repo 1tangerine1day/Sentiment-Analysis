{
 "cells": [
  {
   "cell_type": "code",
   "execution_count": 1,
   "metadata": {},
   "outputs": [],
   "source": [
    "from model.roberta import roberta_sum_classifier\n",
    "from model.roberta import roberta_pool_classifier\n",
    "from model.bert import bert_classifier\n",
    "from model.xlnet import xlnet_classifier\n",
    "\n",
    "from data.class_dataset import dataset"
   ]
  },
  {
   "cell_type": "code",
   "execution_count": 2,
   "metadata": {},
   "outputs": [],
   "source": [
    "import matplotlib\n",
    "import matplotlib.pyplot as plt\n",
    "import seaborn as sn"
   ]
  },
  {
   "cell_type": "code",
   "execution_count": 3,
   "metadata": {},
   "outputs": [],
   "source": [
    "import time\n",
    "import numpy as np\n",
    "import pandas as pd\n",
    "\n",
    "import torch\n",
    "from torch.utils.data import ConcatDataset\n",
    "from torch.utils.data import DataLoader\n",
    "from torch.nn.utils.rnn import pad_sequence\n",
    "import torch.nn as nn\n",
    "\n",
    "from sklearn.metrics import classification_report\n",
    "from sklearn.metrics import confusion_matrix"
   ]
  },
  {
   "cell_type": "markdown",
   "metadata": {},
   "source": [
    "# Model"
   ]
  },
  {
   "cell_type": "code",
   "execution_count": 4,
   "metadata": {},
   "outputs": [],
   "source": [
    "DEVICE = torch.device(\"cuda:0\" if torch.cuda.is_available() else \"cpu\")\n",
    "NAME = \"xlnet-base-cased\"\n",
    "NUM_LABLE = 3\n",
    "MODEL = xlnet_classifier(3, NAME).to(DEVICE)\n",
    "TOKENIZER = MODEL.get_tokenizer()\n",
    "LOSS_FN = nn.CrossEntropyLoss().to(DEVICE)\n",
    "OPTIMIZER = torch.optim.Adam(MODEL.parameters(), lr=2e-5)"
   ]
  },
  {
   "cell_type": "markdown",
   "metadata": {},
   "source": [
    "# Dataset"
   ]
  },
  {
   "cell_type": "code",
   "execution_count": 5,
   "metadata": {},
   "outputs": [],
   "source": [
    "def draw_df_label(df, name):\n",
    "    ax = df['truth'].value_counts(sort=False).plot(kind=\"barh\")\n",
    "    ax.set_xlabel(name)\n",
    "    ax.set_ylabel(\"Label\")"
   ]
  },
  {
   "cell_type": "code",
   "execution_count": 6,
   "metadata": {},
   "outputs": [],
   "source": [
    "# amazon_20201210_test_set = dataset(path=\"amazon5_20201210_body_test.csv\", tokenizer=TOKENIZER)\n",
    "# amazon_20201210_train_set = dataset(path=\"amazon5_20201210_body_train.csv\", tokenizer=TOKENIZER)\n",
    "# draw_df_label(amazon_20201210_train_set.get_df(), amazon_20201210_train_set.get_name())\n",
    "# amazon_20201210_train_set.get_df().head()"
   ]
  },
  {
   "cell_type": "code",
   "execution_count": 7,
   "metadata": {},
   "outputs": [
    {
     "name": "stdout",
     "output_type": "stream",
     "text": [
      "Size : 2210\n",
      "Size : 8544\n"
     ]
    },
    {
     "data": {
      "text/html": [
       "<div>\n",
       "<style scoped>\n",
       "    .dataframe tbody tr th:only-of-type {\n",
       "        vertical-align: middle;\n",
       "    }\n",
       "\n",
       "    .dataframe tbody tr th {\n",
       "        vertical-align: top;\n",
       "    }\n",
       "\n",
       "    .dataframe thead th {\n",
       "        text-align: right;\n",
       "    }\n",
       "</style>\n",
       "<table border=\"1\" class=\"dataframe\">\n",
       "  <thead>\n",
       "    <tr style=\"text-align: right;\">\n",
       "      <th></th>\n",
       "      <th>truth</th>\n",
       "      <th>text</th>\n",
       "    </tr>\n",
       "  </thead>\n",
       "  <tbody>\n",
       "    <tr>\n",
       "      <th>0</th>\n",
       "      <td>2</td>\n",
       "      <td>The Rock is destined to be the 21st Century 's...</td>\n",
       "    </tr>\n",
       "    <tr>\n",
       "      <th>1</th>\n",
       "      <td>2</td>\n",
       "      <td>The gorgeously elaborate continuation of `` Th...</td>\n",
       "    </tr>\n",
       "    <tr>\n",
       "      <th>2</th>\n",
       "      <td>2</td>\n",
       "      <td>Singer/composer Bryan Adams contributes a slew...</td>\n",
       "    </tr>\n",
       "    <tr>\n",
       "      <th>3</th>\n",
       "      <td>1</td>\n",
       "      <td>You 'd think by now America would have had eno...</td>\n",
       "    </tr>\n",
       "    <tr>\n",
       "      <th>4</th>\n",
       "      <td>2</td>\n",
       "      <td>Yet the act is still charming here .</td>\n",
       "    </tr>\n",
       "  </tbody>\n",
       "</table>\n",
       "</div>"
      ],
      "text/plain": [
       "   truth                                               text\n",
       "0      2  The Rock is destined to be the 21st Century 's...\n",
       "1      2  The gorgeously elaborate continuation of `` Th...\n",
       "2      2  Singer/composer Bryan Adams contributes a slew...\n",
       "3      1  You 'd think by now America would have had eno...\n",
       "4      2               Yet the act is still charming here ."
      ]
     },
     "execution_count": 7,
     "metadata": {},
     "output_type": "execute_result"
    },
    {
     "data": {
      "image/png": "[encoded data removed]",
      "text/plain": [
       "<Figure size 432x288 with 1 Axes>"
      ]
     },
     "metadata": {
      "needs_background": "light"
     },
     "output_type": "display_data"
    }
   ],
   "source": [
    "sst5_test_set = dataset(path='data/sst5_test.csv', tokenizer=TOKENIZER)\n",
    "sst5_train_set = dataset(path='data/sst5_train.csv', tokenizer=TOKENIZER)\n",
    "draw_df_label(sst5_train_set.get_df(), sst5_train_set.get_name())\n",
    "sst5_train_set.get_df().head()"
   ]
  },
  {
   "cell_type": "code",
   "execution_count": 8,
   "metadata": {},
   "outputs": [],
   "source": [
    "# balance_set = dataset(path='amazon5_e_temp.csv', tokenizer=tokenizer)\n",
    "# draw_df_label(balance_set.get_df(), balance_set.get_name())"
   ]
  },
  {
   "cell_type": "code",
   "execution_count": 10,
   "metadata": {},
   "outputs": [
    {
     "name": "stdout",
     "output_type": "stream",
     "text": [
      "['<cls>', '▁Miller', '▁tells', '▁this', '▁very', '▁compelling', '▁tale', '▁with', '▁little', '▁fuss', '▁or', '▁noise', '▁', ',', '▁expert', 'ly', '▁pluck', 'ing', '▁tension', '▁from', '▁quiet', '▁', '.']\n"
     ]
    }
   ],
   "source": [
    "# train_set = ConcatDataset([amazon_20201210_train_set, sst5_train_set, balance_set])\n",
    "train_set = sst5_train_set\n",
    "print(TOKENIZER.convert_ids_to_tokens(train_set.__getitem__(133)[0]))"
   ]
  },
  {
   "cell_type": "code",
   "execution_count": 21,
   "metadata": {},
   "outputs": [],
   "source": [
    "def train(loader, epochs):\n",
    "    all_data = len(loader)\n",
    "    for epoch in range(epochs):\n",
    "        finish_data = 0\n",
    "        losses = []\n",
    "        current_times = []\n",
    "        correct_predictions = 0\n",
    "        \n",
    "        for data in loader:\n",
    "            MODEL.train()\n",
    "            t0 = time.time()\n",
    "            \n",
    "            ids_tensors, masks_tensors, labels = [t.to(DEVICE) for t in data]\n",
    "\n",
    "            outputs = MODEL(input_ids=ids_tensors,  attention_mask=masks_tensors)\n",
    "            \n",
    "            loss = LOSS_FN(outputs, labels.type(torch.LongTensor).to(DEVICE))\n",
    "            losses.append(loss.item())\n",
    "            \n",
    "            loss.backward()\n",
    "            \n",
    "            OPTIMIZER.step()\n",
    "            OPTIMIZER.zero_grad()\n",
    "            \n",
    "            finish_data += 1\n",
    "            current_times.append(round(time.time()-t0,3))\n",
    "            current = np.mean(current_times)\n",
    "            hr, min, sec = evl_time(current*(all_data-finish_data) + current*all_data*(epochs-epoch-1) + current/2*all_data*(epochs-epoch-1))\n",
    "            print('epoch:', epoch, \" batch:\", finish_data, \"/\" , all_data, \" loss:\", np.mean(losses), \" hr:\", hr, \" min:\", min,\" sec:\", sec)         \n",
    "\n",
    "        save_model(\"train-epoch-\"+name+'.pkl')\n",
    "        x, y = test(loader)\n",
    "        print(classification_report(x, y, target_names=[str(i) for i in range(num_labels)]))"
   ]
  },
  {
   "cell_type": "code",
   "execution_count": 22,
   "metadata": {},
   "outputs": [],
   "source": [
    "def test(loader):\n",
    "    model.eval()\n",
    "    pred = []\n",
    "    trueth = []\n",
    "    with torch.no_grad():\n",
    "        for data in loader:\n",
    "            ids_tensors, masks_tensors, labels = [t.to(DEVICE) for t in data]\n",
    "            outputs = MODEL(input_ids=ids_tensors,  attention_mask=masks_tensors)\n",
    "            _, predictions = torch.max(outputs, dim=1)\n",
    "\n",
    "            pred += list([int(i) for i in predictions])\n",
    "            trueth += list([int(i) for i in labels])\n",
    "\n",
    "    return trueth, pred"
   ]
  },
  {
   "cell_type": "code",
   "execution_count": 23,
   "metadata": {},
   "outputs": [],
   "source": [
    "def load_model(path):\n",
    "    MODEL.load_state_dict(torch.load(path), strict=False)\n",
    "    return MODEL\n",
    "    \n",
    "def save_model(name):\n",
    "    torch.save(MODEL.state_dict(), name)\n",
    "\n",
    "def predict(sentence, tokenizer):\n",
    "    MODEL.eval()\n",
    "    word_pieces = [tokenizer.cls_token]\n",
    "    tokens = tokenizer.tokenize(sentence)\n",
    "    if len(tokens) > 500:\n",
    "        tokens = tokens[:200] + tokens[-300:]\n",
    "    word_pieces += tokens\n",
    "    ids = tokenizer.convert_tokens_to_ids(word_pieces)\n",
    "    input_tensor = torch.tensor([ids]).to(DEVICE)\n",
    "\n",
    "    with torch.no_grad():\n",
    "        outputs = MODEL(input_tensor)\n",
    "        _, predictions = torch.max(outputs, dim=1)\n",
    "    \n",
    "    return predictions, outputs\n",
    "\n",
    "def evl_time(t):\n",
    "    min, sec= divmod(t, 60)\n",
    "    hr, min = divmod(min, 60)\n",
    "    return int(hr), int(min), int(sec)\n",
    "\n",
    "def create_mini_batch(samples):\n",
    "    ids_tensors = [s[0] for s in samples]\n",
    "    ids_tensors = pad_sequence(ids_tensors, batch_first=True)\n",
    "\n",
    "    label_ids = torch.stack([s[1] for s in samples])\n",
    "    \n",
    "    masks_tensors = torch.zeros(ids_tensors.shape, dtype=torch.long)\n",
    "    masks_tensors = masks_tensors.masked_fill(ids_tensors != 0, 1)\n",
    "    \n",
    "    return ids_tensors, masks_tensors, label_ids\n",
    "\n",
    "def draw_c_matrix(c_matrix, title=\"test\"):\n",
    "    aix = []\n",
    "    for y in range(len(c_matrix)):\n",
    "        aix.append(y)\n",
    "    df_cm = pd.DataFrame(c_matrix, aix, aix)\n",
    "    sn.heatmap(df_cm, annot=True, fmt='g')\n",
    "    plt.ylabel(\"prediction\")\n",
    "    plt.xlabel(\"ground truth\")\n",
    "    plt.title(title)\n",
    "    plt.savefig(title+'.jpg')\n",
    "    plt.show()"
   ]
  },
  {
   "cell_type": "markdown",
   "metadata": {},
   "source": [
    "# train"
   ]
  },
  {
   "cell_type": "code",
   "execution_count": 24,
   "metadata": {},
   "outputs": [],
   "source": [
    "train_loader = DataLoader(train_set, batch_size=5, collate_fn=create_mini_batch, shuffle = True)"
   ]
  },
  {
   "cell_type": "code",
   "execution_count": 25,
   "metadata": {},
   "outputs": [
    {
     "ename": "NameError",
     "evalue": "name 'optimizer' is not defined",
     "output_type": "error",
     "traceback": [
      "\u001b[1;31m---------------------------------------------------------------------------\u001b[0m",
      "\u001b[1;31mNameError\u001b[0m                                 Traceback (most recent call last)",
      "\u001b[1;32m<timed eval>\u001b[0m in \u001b[0;36m<module>\u001b[1;34m\u001b[0m\n",
      "\u001b[1;32m<ipython-input-21-476f6da2e264>\u001b[0m in \u001b[0;36mtrain\u001b[1;34m(model, loader, epochs)\u001b[0m\n\u001b[0;32m     20\u001b[0m             \u001b[0mloss\u001b[0m\u001b[1;33m.\u001b[0m\u001b[0mbackward\u001b[0m\u001b[1;33m(\u001b[0m\u001b[1;33m)\u001b[0m\u001b[1;33m\u001b[0m\u001b[1;33m\u001b[0m\u001b[0m\n\u001b[0;32m     21\u001b[0m \u001b[1;33m\u001b[0m\u001b[0m\n\u001b[1;32m---> 22\u001b[1;33m             \u001b[0moptimizer\u001b[0m\u001b[1;33m.\u001b[0m\u001b[0mstep\u001b[0m\u001b[1;33m(\u001b[0m\u001b[1;33m)\u001b[0m\u001b[1;33m\u001b[0m\u001b[1;33m\u001b[0m\u001b[0m\n\u001b[0m\u001b[0;32m     23\u001b[0m             \u001b[0moptimizer\u001b[0m\u001b[1;33m.\u001b[0m\u001b[0mzero_grad\u001b[0m\u001b[1;33m(\u001b[0m\u001b[1;33m)\u001b[0m\u001b[1;33m\u001b[0m\u001b[1;33m\u001b[0m\u001b[0m\n\u001b[0;32m     24\u001b[0m \u001b[1;33m\u001b[0m\u001b[0m\n",
      "\u001b[1;31mNameError\u001b[0m: name 'optimizer' is not defined"
     ]
    }
   ],
   "source": [
    "%time train(train_loader, 6)\n",
    "save_model('3-sst5-'+NAME+'.pkl')"
   ]
  },
  {
   "cell_type": "markdown",
   "metadata": {},
   "source": [
    "# test"
   ]
  },
  {
   "cell_type": "code",
   "execution_count": 16,
   "metadata": {},
   "outputs": [],
   "source": [
    "model = load_model('3-sst5-'+name+'.pkl')"
   ]
  },
  {
   "cell_type": "code",
   "execution_count": 17,
   "metadata": {},
   "outputs": [
    {
     "name": "stdout",
     "output_type": "stream",
     "text": [
      "Wall time: 34.9 s\n",
      "              precision    recall  f1-score   support\n",
      "\n",
      "           0       0.83      0.86      0.84      3310\n",
      "           1       0.61      0.28      0.38      1624\n",
      "           2       0.80      0.97      0.87      3610\n",
      "\n",
      "    accuracy                           0.79      8544\n",
      "   macro avg       0.75      0.70      0.70      8544\n",
      "weighted avg       0.77      0.79      0.77      8544\n",
      "\n"
     ]
    },
    {
     "data": {
      "image/png": "[encoded data removed]",
      "text/plain": [
       "<Figure size 432x288 with 2 Axes>"
      ]
     },
     "metadata": {
      "needs_background": "light"
     },
     "output_type": "display_data"
    }
   ],
   "source": [
    "test_loader = DataLoader(train_set, batch_size=50, collate_fn=create_mini_batch)\n",
    "%time x, y = test(test_loader)\n",
    "print(classification_report(x, y, target_names=[str(i) for i in range(num_labels)]))\n",
    "draw_c_matrix(confusion_matrix(x, y))"
   ]
  },
  {
   "cell_type": "code",
   "execution_count": 18,
   "metadata": {},
   "outputs": [],
   "source": [
    "# test_loader = DataLoader(amazon_20201210_test_set, batch_size=50, collate_fn=create_mini_batch)\n",
    "# %time x, y = test(test_loader)\n",
    "# print(classification_report(x, y, target_names=[str(i) for i in range(num_labels)]))\n",
    "# draw_c_matrix(confusion_matrix(x, y))"
   ]
  },
  {
   "cell_type": "code",
   "execution_count": 19,
   "metadata": {},
   "outputs": [
    {
     "name": "stdout",
     "output_type": "stream",
     "text": [
      "Wall time: 8.92 s\n",
      "              precision    recall  f1-score   support\n",
      "\n",
      "           0       0.81      0.73      0.77       912\n",
      "           1       0.39      0.22      0.28       389\n",
      "           2       0.74      0.95      0.83       909\n",
      "\n",
      "    accuracy                           0.73      2210\n",
      "   macro avg       0.65      0.63      0.63      2210\n",
      "weighted avg       0.71      0.73      0.71      2210\n",
      "\n"
     ]
    },
    {
     "data": {
      "image/png": "[encoded data removed]",
      "text/plain": [
       "<Figure size 432x288 with 2 Axes>"
      ]
     },
     "metadata": {
      "needs_background": "light"
     },
     "output_type": "display_data"
    }
   ],
   "source": [
    "test_loader = DataLoader(sst5_test_set, batch_size=50, collate_fn=create_mini_batch, shuffle = True)\n",
    "%time x, y = test(test_loader)\n",
    "print(classification_report(x, y, target_names=[str(i) for i in range(num_labels)]))\n",
    "draw_c_matrix(confusion_matrix(x, y))"
   ]
  },
  {
   "cell_type": "markdown",
   "metadata": {},
   "source": [
    "# predict"
   ]
  },
  {
   "cell_type": "code",
   "execution_count": 20,
   "metadata": {},
   "outputs": [],
   "source": [
    "load_model('3-sst5-'+name+'.pkl')"
   ]
  },
  {
   "cell_type": "code",
   "execution_count": 21,
   "metadata": {},
   "outputs": [
    {
     "data": {
      "text/plain": [
       "(tensor([0], device='cuda:0'),\n",
       " tensor([[ 0.3073,  0.2018, -0.3178]], device='cuda:0'))"
      ]
     },
     "execution_count": 21,
     "metadata": {},
     "output_type": "execute_result"
    }
   ],
   "source": [
    "predict(\"Not as extreme as touted\", tokenizer) #3/5"
   ]
  },
  {
   "cell_type": "code",
   "execution_count": 22,
   "metadata": {},
   "outputs": [
    {
     "data": {
      "text/plain": [
       "(tensor([2], device='cuda:0'),\n",
       " tensor([[-0.5547, -0.1818,  0.2378]], device='cuda:0'))"
      ]
     },
     "execution_count": 22,
     "metadata": {},
     "output_type": "execute_result"
    }
   ],
   "source": [
    "predict(\"IT WAS DIFFERENT TYPE MOVIE BUT IT WAS GOOD. SUSPENSEFUL.\", tokenizer) #5/5"
   ]
  },
  {
   "cell_type": "code",
   "execution_count": 23,
   "metadata": {},
   "outputs": [
    {
     "data": {
      "text/plain": [
       "(tensor([0], device='cuda:0'),\n",
       " tensor([[ 1.1115,  0.3389, -0.7701]], device='cuda:0'))"
      ]
     },
     "execution_count": 23,
     "metadata": {},
     "output_type": "execute_result"
    }
   ],
   "source": [
    "predict(\"Not impressed with this movie, too many unknown variables.\", tokenizer) #1/5"
   ]
  },
  {
   "cell_type": "code",
   "execution_count": 24,
   "metadata": {},
   "outputs": [
    {
     "data": {
      "text/plain": [
       "(tensor([0], device='cuda:0'),\n",
       " tensor([[ 0.6400, -0.0360, -0.3641]], device='cuda:0'))"
      ]
     },
     "execution_count": 24,
     "metadata": {},
     "output_type": "execute_result"
    }
   ],
   "source": [
    "predict(\"The first half is outstanding. Lupita Nyongo is excellent as always -- shes a moody complex character which makes complete sense after the big reveal.Once that big reveal happens, suspending disbelief is difficult, even for a horror movie. It is almost as if they came up with the main premise, than spit-balled an explanation. The explanation / back story is so absurd it requires way too much exposition. Heres hoping Peele gets more grounded in his third act.\", tokenizer) #3/5"
   ]
  },
  {
   "cell_type": "code",
   "execution_count": null,
   "metadata": {},
   "outputs": [],
   "source": []
  },
  {
   "cell_type": "code",
   "execution_count": null,
   "metadata": {},
   "outputs": [],
   "source": []
  }
 ],
 "metadata": {
  "kernelspec": {
   "display_name": "Python 3",
   "language": "python",
   "name": "python3"
  },
  "language_info": {
   "codemirror_mode": {
    "name": "ipython",
    "version": 3
   },
   "file_extension": ".py",
   "mimetype": "text/x-python",
   "name": "python",
   "nbconvert_exporter": "python",
   "pygments_lexer": "ipython3",
   "version": "3.8.3"
  }
 },
 "nbformat": 4,
 "nbformat_minor": 2
}
